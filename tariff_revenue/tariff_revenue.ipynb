{
 "cells": [
  {
   "cell_type": "markdown",
   "metadata": {},
   "source": [
    "# Этап 1. Получение данных"
   ]
  },
  {
   "cell_type": "markdown",
   "metadata": {},
   "source": [
    "Изучим данные, предоставленные сервисом для проекта.\n",
    "Выведем общую инфорацию по датасетам. Для нескольких файлов это удобнее делать через функцию."
   ]
  },
  {
   "cell_type": "code",
   "execution_count": 1,
   "metadata": {
    "scrolled": true
   },
   "outputs": [
    {
     "name": "stdout",
     "output_type": "stream",
     "text": [
      "<class 'pandas.core.frame.DataFrame'>\n",
      "RangeIndex: 500 entries, 0 to 499\n",
      "Data columns (total 8 columns):\n",
      "user_id       500 non-null int64\n",
      "age           500 non-null int64\n",
      "churn_date    38 non-null object\n",
      "city          500 non-null object\n",
      "first_name    500 non-null object\n",
      "last_name     500 non-null object\n",
      "reg_date      500 non-null object\n",
      "tariff        500 non-null object\n",
      "dtypes: int64(2), object(6)\n",
      "memory usage: 31.4+ KB\n",
      "None\n",
      "\n",
      "<class 'pandas.core.frame.DataFrame'>\n",
      "RangeIndex: 202607 entries, 0 to 202606\n",
      "Data columns (total 4 columns):\n",
      "id           202607 non-null object\n",
      "call_date    202607 non-null object\n",
      "duration     202607 non-null float64\n",
      "user_id      202607 non-null int64\n",
      "dtypes: float64(1), int64(1), object(2)\n",
      "memory usage: 6.2+ MB\n",
      "None\n",
      "\n",
      "<class 'pandas.core.frame.DataFrame'>\n",
      "RangeIndex: 149396 entries, 0 to 149395\n",
      "Data columns (total 5 columns):\n",
      "Unnamed: 0      149396 non-null int64\n",
      "id              149396 non-null object\n",
      "mb_used         149396 non-null float64\n",
      "session_date    149396 non-null object\n",
      "user_id         149396 non-null int64\n",
      "dtypes: float64(1), int64(2), object(2)\n",
      "memory usage: 5.7+ MB\n",
      "None\n",
      "\n",
      "<class 'pandas.core.frame.DataFrame'>\n",
      "RangeIndex: 123036 entries, 0 to 123035\n",
      "Data columns (total 3 columns):\n",
      "id              123036 non-null object\n",
      "message_date    123036 non-null object\n",
      "user_id         123036 non-null int64\n",
      "dtypes: int64(1), object(2)\n",
      "memory usage: 2.8+ MB\n",
      "None\n",
      "\n",
      "<class 'pandas.core.frame.DataFrame'>\n",
      "RangeIndex: 2 entries, 0 to 1\n",
      "Data columns (total 8 columns):\n",
      "messages_included        2 non-null int64\n",
      "mb_per_month_included    2 non-null int64\n",
      "minutes_included         2 non-null int64\n",
      "rub_monthly_fee          2 non-null int64\n",
      "rub_per_gb               2 non-null int64\n",
      "rub_per_message          2 non-null int64\n",
      "rub_per_minute           2 non-null int64\n",
      "tariff_name              2 non-null object\n",
      "dtypes: int64(7), object(1)\n",
      "memory usage: 256.0+ bytes\n",
      "None\n",
      "\n"
     ]
    }
   ],
   "source": [
    "# Импорт библиотек\n",
    "from scipy import stats as st\n",
    "import numpy as np\n",
    "import pandas as pd\n",
    "import seaborn as sns\n",
    "from datetime import datetime\n",
    "import matplotlib.pyplot as plt\n",
    "import math\n",
    "\n",
    "data_users = pd.read_csv('/datasets/users.csv')\n",
    "data_calls = pd.read_csv('/datasets/calls.csv')\n",
    "data_internet = pd.read_csv('/datasets/internet.csv')\n",
    "data_messages = pd.read_csv('/datasets/messages.csv')\n",
    "data_tariffs = pd.read_csv('/datasets/tariffs.csv')\n",
    "\n",
    "def table_info():\n",
    "    for table in [data_users, data_calls, data_internet, data_messages, data_tariffs]:\n",
    "        print(table.info())\n",
    "        print()\n",
    "\n",
    "table_info()"
   ]
  },
  {
   "cell_type": "markdown",
   "metadata": {},
   "source": [
    "Рассмотрим полученную информацию подробнее.\n",
    "\n",
    "В представленных данных 5 таблиц с данными о:\n",
    "- пользователях (data_users);\n",
    "- звонках (data_calls);\n",
    "- интернет-сессиях (data_internet);\n",
    "- отправленных сообщениях (data_messages);\n",
    "- тарифах (data_tariffs)."
   ]
  },
  {
   "cell_type": "markdown",
   "metadata": {},
   "source": [
    "Переименуем столбцы таблиц, чтобы не путаться в названиях."
   ]
  },
  {
   "cell_type": "code",
   "execution_count": 2,
   "metadata": {},
   "outputs": [],
   "source": [
    "data_calls.columns = ['call_id', 'call_date', 'call_duration', 'user_id']\n",
    "data_internet.columns = ['ind','internet_id','mb_used', 'internet_date', 'user_id']\n",
    "data_messages.columns = ['message_id', 'message_date', 'user_id']\n",
    "data_tariffs.columns = ['messages_included', 'mg_per_month_included', 'minutes_included', 'rub_monthly_fee', \n",
    "                       'rub_per_gb', 'rub_per_message', 'rub_per_minute','tariff']"
   ]
  },
  {
   "cell_type": "markdown",
   "metadata": {},
   "source": [
    "Для дальнейшей работы с данными необходимо обработать пропуски в датах и поменять тип данных на нужный."
   ]
  },
  {
   "cell_type": "markdown",
   "metadata": {},
   "source": [
    "# Этап 2. Подготовка данных"
   ]
  },
  {
   "cell_type": "markdown",
   "metadata": {},
   "source": [
    "В данных о пользователях есть пропуски в дате прекращения пользония тарифом. Так как представленная выгрузка за 2018 год, предположим, что тариф действовал до 01.01.2019:"
   ]
  },
  {
   "cell_type": "code",
   "execution_count": 3,
   "metadata": {},
   "outputs": [],
   "source": [
    "data_users['churn_date'] = data_users['churn_date'].fillna('2019-01-01')"
   ]
  },
  {
   "cell_type": "markdown",
   "metadata": {},
   "source": [
    "Поменяем тип данных в таблицах о звонках и интрернет-трафике на нужные. Для этого напишем функцию ceil для коррекктного округления в бОльшую сторону."
   ]
  },
  {
   "cell_type": "code",
   "execution_count": 4,
   "metadata": {},
   "outputs": [],
   "source": [
    "def ceil(x):\n",
    "    return math.ceil(x)\n",
    "\n",
    "data_calls['call_id'] = data_calls['call_id'].astype('object')\n",
    "\n",
    "data_calls['call_duration'] = data_calls['call_duration'].apply(ceil).astype('int')\n",
    "data_internet['mb_used'] = data_internet['mb_used'].apply(ceil).astype('int')"
   ]
  },
  {
   "cell_type": "markdown",
   "metadata": {},
   "source": [
    "В таблице звонков есть нулевые значения продолжительности разговора: так как в тарифах оператора указана поминутная тарификация, то даже если звонок продолжается несколько секунд, оператор посчитает целую минуту:"
   ]
  },
  {
   "cell_type": "code",
   "execution_count": 5,
   "metadata": {},
   "outputs": [],
   "source": [
    "data_calls.loc[data_calls['call_duration'] == 0, 'call_duration'] = 1"
   ]
  },
  {
   "cell_type": "markdown",
   "metadata": {},
   "source": [
    "Добавим в каждую таблицу по звонкам, интернет-трафику и сообщениях столбец с месяцем"
   ]
  },
  {
   "cell_type": "code",
   "execution_count": 6,
   "metadata": {},
   "outputs": [],
   "source": [
    "def add_month(data, column):\n",
    "    data['month'] = pd.DatetimeIndex(data[column]).month\n",
    "    \n",
    "add_month(data_calls, 'call_date')\n",
    "add_month(data_internet, 'internet_date')\n",
    "add_month(data_messages, 'message_date')"
   ]
  },
  {
   "cell_type": "markdown",
   "metadata": {},
   "source": [
    "Посмотрим на количество сделанных звонков, израсходованных минут и интернет-трафика по каждому пользователю в месяц:"
   ]
  },
  {
   "cell_type": "code",
   "execution_count": 7,
   "metadata": {},
   "outputs": [],
   "source": [
    "# Количество сделанных звонков и израсходованных минут по каждому пользователю в месяц:\n",
    "data_calls = data_calls.pivot_table(index=['user_id','month'], \n",
    "                                    values = ['call_duration'], \n",
    "                                    aggfunc = ['sum','count']).reset_index() \n",
    "data_calls.columns = ['user_id', 'month','call_duration','count_calls']\n",
    "\n",
    "# Количество отправленных сообщений по месяцам:\n",
    "data_messages = data_messages.pivot_table(index=['user_id','month'], \n",
    "                                          values = ['message_date'], \n",
    "                                          aggfunc = ['count']).reset_index() \n",
    "data_messages.columns = ['user_id', 'month','count_message']\n",
    "\n",
    "# Объем израсходованного интернет-трафика по месяцам:\n",
    "data_internet = data_internet.pivot_table(index=['user_id','month'], \n",
    "                                          values = ['mb_used'], \n",
    "                                          aggfunc = ['sum']).reset_index() \n",
    "data_internet.columns = ['user_id', 'month','volume_mb']"
   ]
  },
  {
   "cell_type": "markdown",
   "metadata": {},
   "source": [
    "Соберем в одну таблицу количество сделанных звонков, израсходованных минут, отправленных сообщений и израсходованного интернет-трафика по каждому пользователю в месяц (data)."
   ]
  },
  {
   "cell_type": "code",
   "execution_count": 8,
   "metadata": {
    "scrolled": true
   },
   "outputs": [
    {
     "data": {
      "text/html": [
       "<div>\n",
       "<style scoped>\n",
       "    .dataframe tbody tr th:only-of-type {\n",
       "        vertical-align: middle;\n",
       "    }\n",
       "\n",
       "    .dataframe tbody tr th {\n",
       "        vertical-align: top;\n",
       "    }\n",
       "\n",
       "    .dataframe thead th {\n",
       "        text-align: right;\n",
       "    }\n",
       "</style>\n",
       "<table border=\"1\" class=\"dataframe\">\n",
       "  <thead>\n",
       "    <tr style=\"text-align: right;\">\n",
       "      <th></th>\n",
       "      <th>user_id</th>\n",
       "      <th>month</th>\n",
       "      <th>call_duration</th>\n",
       "      <th>count_calls</th>\n",
       "      <th>count_message</th>\n",
       "      <th>volume_mb</th>\n",
       "    </tr>\n",
       "  </thead>\n",
       "  <tbody>\n",
       "    <tr>\n",
       "      <td>0</td>\n",
       "      <td>1000</td>\n",
       "      <td>5</td>\n",
       "      <td>164.0</td>\n",
       "      <td>22.0</td>\n",
       "      <td>22.0</td>\n",
       "      <td>2256.0</td>\n",
       "    </tr>\n",
       "    <tr>\n",
       "      <td>1</td>\n",
       "      <td>1000</td>\n",
       "      <td>6</td>\n",
       "      <td>187.0</td>\n",
       "      <td>43.0</td>\n",
       "      <td>60.0</td>\n",
       "      <td>23257.0</td>\n",
       "    </tr>\n",
       "    <tr>\n",
       "      <td>2</td>\n",
       "      <td>1000</td>\n",
       "      <td>7</td>\n",
       "      <td>346.0</td>\n",
       "      <td>47.0</td>\n",
       "      <td>75.0</td>\n",
       "      <td>14016.0</td>\n",
       "    </tr>\n",
       "    <tr>\n",
       "      <td>3</td>\n",
       "      <td>1000</td>\n",
       "      <td>8</td>\n",
       "      <td>418.0</td>\n",
       "      <td>52.0</td>\n",
       "      <td>81.0</td>\n",
       "      <td>14070.0</td>\n",
       "    </tr>\n",
       "    <tr>\n",
       "      <td>4</td>\n",
       "      <td>1000</td>\n",
       "      <td>9</td>\n",
       "      <td>478.0</td>\n",
       "      <td>58.0</td>\n",
       "      <td>57.0</td>\n",
       "      <td>14581.0</td>\n",
       "    </tr>\n",
       "  </tbody>\n",
       "</table>\n",
       "</div>"
      ],
      "text/plain": [
       "   user_id  month  call_duration  count_calls  count_message  volume_mb\n",
       "0     1000      5          164.0         22.0           22.0     2256.0\n",
       "1     1000      6          187.0         43.0           60.0    23257.0\n",
       "2     1000      7          346.0         47.0           75.0    14016.0\n",
       "3     1000      8          418.0         52.0           81.0    14070.0\n",
       "4     1000      9          478.0         58.0           57.0    14581.0"
      ]
     },
     "execution_count": 8,
     "metadata": {},
     "output_type": "execute_result"
    }
   ],
   "source": [
    "data = (data_calls.merge(data_messages, on=['user_id','month'], how='outer')\n",
    "                  .merge(data_internet, on=['user_id','month'], how='outer')\n",
    "                  .fillna(0))\n",
    "\n",
    "data.dropna(subset=['count_calls','count_message','volume_mb'], inplace=True)\n",
    "\n",
    "data.head()"
   ]
  },
  {
   "cell_type": "markdown",
   "metadata": {},
   "source": [
    "<font color='green'>Данные собраны верно."
   ]
  },
  {
   "cell_type": "markdown",
   "metadata": {},
   "source": [
    "Построим гистограммы, чтобы посмотреть, если ли в данных выбросы. Для этого напишем функцию hist()."
   ]
  },
  {
   "cell_type": "code",
   "execution_count": 9,
   "metadata": {},
   "outputs": [
    {
     "data": {
      "image/png": "[encoded data removed]",
      "text/plain": [
       "<Figure size 1440x360 with 4 Axes>"
      ]
     },
     "metadata": {
      "needs_background": "light"
     },
     "output_type": "display_data"
    }
   ],
   "source": [
    "def hist():\n",
    "    list = ['call_duration', 'count_calls', 'count_message', 'volume_mb']\n",
    "    fig, axs = plt.subplots(1, len(list), figsize=(20, 5), sharey=True)\n",
    "    fig.suptitle('Распределение количества пользователей по параметрам тарифов', fontsize=16)\n",
    "    for i in list:\n",
    "        axs[list.index(i)].hist(data[i], bins = 30, alpha = 0.5)\n",
    "        axs[list.index(i)].set_ylabel('count_user', fontsize=16)\n",
    "        axs[list.index(i)].set_xlabel(i, fontsize=16)\n",
    "        \n",
    "hist()"
   ]
  },
  {
   "cell_type": "markdown",
   "metadata": {},
   "source": [
    "Как же распределены данные? \n",
    "Видно, что у некоторых пользователей количество минут разговара превышает 1000 минут (более 16 часов) в месяц. Кол-во звонков превышает более 120 в месяц - это, на мой взгляд, аномалия. При этом есть аномальный выброс у пользователей в диапазоне от 0 до 7 сообщений, а некоторые пользователи отправляют более 150 смс в месяц. А также трафик более 40'000 mb выглядит подозрительно.\n",
    "Добавим данные о тарифах и избавимся от выбросов."
   ]
  },
  {
   "cell_type": "code",
   "execution_count": 10,
   "metadata": {},
   "outputs": [],
   "source": [
    "data_tariff = data.merge(data_users, on=['user_id'], how='outer')\n",
    "data = data_tariff[['user_id', 'month','call_duration','count_calls','count_message','volume_mb','tariff']]\n",
    "\n",
    "data = data.query('call_duration <= 1000 and count_calls <= 120 and 7 <= count_message <= 150 and volume_mb <= 40000')"
   ]
  },
  {
   "cell_type": "markdown",
   "metadata": {},
   "source": [
    "Проверка на наличие выбросов после корректировки"
   ]
  },
  {
   "cell_type": "code",
   "execution_count": 11,
   "metadata": {},
   "outputs": [
    {
     "data": {
      "image/png": "[encoded data removed]",
      "text/plain": [
       "<Figure size 1440x360 with 4 Axes>"
      ]
     },
     "metadata": {
      "needs_background": "light"
     },
     "output_type": "display_data"
    }
   ],
   "source": [
    "hist()"
   ]
  },
  {
   "cell_type": "markdown",
   "metadata": {},
   "source": [
    "Далее определим тариф каждого пользователя и лимит по нему. Это необходимо для расчета выручки по каждому клиенту помесячно: как произведение остатка тарифа на его стоимость."
   ]
  },
  {
   "cell_type": "code",
   "execution_count": 12,
   "metadata": {
    "scrolled": false
   },
   "outputs": [
    {
     "data": {
      "text/plain": [
       "Text(0.5, 0.98, 'Распределение выручки по тарифам')"
      ]
     },
     "execution_count": 12,
     "metadata": {},
     "output_type": "execute_result"
    },
    {
     "data": {
      "image/png": "[encoded data removed]",
      "text/plain": [
       "<Figure size 425x360 with 1 Axes>"
      ]
     },
     "metadata": {
      "needs_background": "light"
     },
     "output_type": "display_data"
    }
   ],
   "source": [
    "data_result = data.merge(data_tariffs, on = 'tariff', how='outer')\n",
    "\n",
    "# Определяем остаток:\n",
    "data_result['balance_message'] = data_result['count_message'] - data_result['messages_included'] \n",
    "data_result['balance_minute'] = data_result['call_duration'] - data_result['minutes_included']\n",
    "data_result['balance_mb'] = data_result['volume_mb'] - data_result['mg_per_month_included']\n",
    "\n",
    "# Если остаток меньше нуля, это значит, что клиент не израсходовал бесплатный лимит\n",
    "data_result.loc[data_result['balance_message'] < 0, 'balance_message'] = 0\n",
    "data_result.loc[data_result['balance_minute'] < 0, 'balance_minute'] = 0\n",
    "data_result.loc[data_result['balance_mb'] < 0, 'balance_mb'] = 0\n",
    "\n",
    "# Расчет выручки по каждому клиенту \\ месяцу:\n",
    "data_result['revenue_month'] = (data_result['rub_monthly_fee'] \n",
    "                                + data_result['balance_message'] * data_result['rub_per_message']\n",
    "                                + data_result['balance_minute'] * data_result['rub_per_minute']\n",
    "                                + data_result['balance_mb'] * (data_result['rub_per_gb'] / 1024))\n",
    "\n",
    "data_revenue = data_result[['user_id','month','revenue_month','tariff']]\n",
    "\n",
    "sns.relplot(x=\"month\", \n",
    "            y=\"revenue_month\", \n",
    "            kind=\"line\", \n",
    "            hue = 'tariff', \n",
    "            data=data_revenue, \n",
    "            ci=None).fig.suptitle(\"Распределение выручки по тарифам\", fontsize=12)"
   ]
  },
  {
   "cell_type": "code",
   "execution_count": 13,
   "metadata": {},
   "outputs": [
    {
     "data": {
      "text/plain": [
       "Text(0.5, 1.0, 'Распределение выручки тарифов помесячно')"
      ]
     },
     "execution_count": 13,
     "metadata": {},
     "output_type": "execute_result"
    },
    {
     "data": {
      "image/png": "[encoded data removed]",
      "text/plain": [
       "<Figure size 1440x720 with 1 Axes>"
      ]
     },
     "metadata": {
      "needs_background": "light"
     },
     "output_type": "display_data"
    }
   ],
   "source": [
    "plt.figure(figsize=(20,10))\n",
    "sns.boxplot(x=\"month\", y=\"revenue_month\",\n",
    "            hue=\"tariff\",\n",
    "            data=data_revenue).set_title(\"Распределение выручки тарифов помесячно\", fontsize=16)"
   ]
  },
  {
   "cell_type": "code",
   "execution_count": 14,
   "metadata": {
    "scrolled": true
   },
   "outputs": [
    {
     "data": {
      "text/plain": [
       "tariff\n",
       "smart    1246.000138\n",
       "ultra    2004.305639\n",
       "Name: revenue_month, dtype: float64"
      ]
     },
     "execution_count": 14,
     "metadata": {},
     "output_type": "execute_result"
    }
   ],
   "source": [
    "data_revenue.groupby('tariff')['revenue_month'].mean()"
   ]
  },
  {
   "cell_type": "markdown",
   "metadata": {},
   "source": [
    "По графику выше видно, что выручка по Ultra с течением времени почти не колебалась и оставалась на одном уровне, тогда как выручка по второму тарифу росла по месяцам. Итого, средняя выручка по тарифу Smart ниже, чем по Ultra. "
   ]
  },
  {
   "cell_type": "markdown",
   "metadata": {},
   "source": [
    "# Этап 3. Анализ данных"
   ]
  },
  {
   "cell_type": "markdown",
   "metadata": {},
   "source": [
    "Сколько минут разговора, сколько сообщений и какой объём интернет-трафика требуется пользователям каждого тарифа в месяц?"
   ]
  },
  {
   "cell_type": "code",
   "execution_count": 15,
   "metadata": {
    "scrolled": true
   },
   "outputs": [
    {
     "name": "stdout",
     "output_type": "stream",
     "text": [
      "СРЕДНЕЕ ЗНАЧЕНИЕ\n",
      "  tariff  call_duration  count_calls  count_message  volume_mb\n",
      "0  smart         435.66        59.26          41.75   16557.19\n",
      "1  ultra         453.76        61.52          58.01   18716.92\n",
      "\n",
      "ДИСПЕРСИЯ\n",
      "  tariff  call_duration  count_calls  count_message    volume_mb\n",
      "0  smart       32542.12       570.30         663.74  28455864.72\n",
      "1  ultra       62448.05      1100.03        1343.48  83121442.11\n",
      "\n",
      "СТАНДАРТНОЕ ОТКЛОНЕНИЕ\n",
      "  tariff  call_duration  count_calls  count_message  volume_mb\n",
      "0  smart         180.39        23.88          25.76     5334.4\n",
      "1  ultra         249.90        33.17          36.65     9117.1\n",
      "\n"
     ]
    }
   ],
   "source": [
    "data_analysis = data.groupby(by=['tariff'])['call_duration','count_calls','count_message','volume_mb']\n",
    "\n",
    "print('СРЕДНЕЕ ЗНАЧЕНИЕ')\n",
    "data_analysis_mean = data_analysis.mean()\n",
    "print(np.round(data_analysis.mean(), 2).reset_index())\n",
    "print()\n",
    "\n",
    "print('ДИСПЕРСИЯ')\n",
    "data_analysis_var = data_analysis.var()\n",
    "print(np.round(data_analysis.var(), 2).reset_index())\n",
    "print()\n",
    "\n",
    "print('СТАНДАРТНОЕ ОТКЛОНЕНИЕ')\n",
    "data_analysis_std = data_analysis.std()\n",
    "print(np.round(data_analysis.std(), 2).reset_index())\n",
    "print()"
   ]
  },
  {
   "cell_type": "markdown",
   "metadata": {},
   "source": [
    "Сразу видно, что в среднем по тарифу Ultra никогда не превышат лимит ни по одному из параметров, а по тарифу Smart в среднем пользователи всегда на границе лимита - есть риск докупки минут, сообщений и траффика.\n",
    "\n",
    "Посмотрим распределение тарифов на графиках."
   ]
  },
  {
   "cell_type": "code",
   "execution_count": 16,
   "metadata": {},
   "outputs": [
    {
     "data": {
      "image/png": "[encoded data removed]",
      "text/plain": [
       "<Figure size 1440x360 with 4 Axes>"
      ]
     },
     "metadata": {
      "needs_background": "light"
     },
     "output_type": "display_data"
    }
   ],
   "source": [
    "data_smart = data.query('tariff == \"smart\"')\n",
    "data_ultra = data.query('tariff == \"ultra\"')\n",
    "\n",
    "def tariff_hist():\n",
    "    list = ['call_duration', 'count_calls', 'count_message', 'volume_mb']\n",
    "    fig, axs = plt.subplots(1, len(list), figsize=(20, 5), sharey=True)\n",
    "    fig.suptitle('Распределение параметров тарифов', fontsize=16)\n",
    "    for i in list:\n",
    "        axs[list.index(i)].hist(data_smart[i], bins = 20, alpha = 0.5)\n",
    "        axs[list.index(i)].hist(data_ultra[i], bins = 20, alpha = 0.5)\n",
    "        axs[list.index(i)].set_ylabel('count', fontsize=16)\n",
    "        axs[list.index(i)].set_xlabel(i, fontsize=16)\n",
    "        \n",
    "tariff_hist()"
   ]
  },
  {
   "cell_type": "markdown",
   "metadata": {},
   "source": [
    "- **Длительность разговора**: для тарифа Smart больше всего пользователей тратят на разговор от 200 до 600 минут (3 - 10 часов) в среднем в месяц. Тогда как по тарифу Ultra пользователи равнометро распределены по количеству минут разговора, кроме этого по пользователи по тарифу Smart чаще разговаривают по телефону, чем по тарифу Ultra. Пользователи тарифа Smart чаще всего докупают количество минут разговора, а потльзователи Ultra никогда не превышают лимит (50 ч.)"
   ]
  },
  {
   "cell_type": "markdown",
   "metadata": {},
   "source": [
    "- **Количество звонков**: для тарифа Smart больше всего пользователей совершают от 55 до 80 звонков в среднем за месяц. Тогда как по тарифу Ultra пользователи равнометро распределены по количеству минут разговора. Кроме того, по пользователи по тарифу Smart чаще разговаривают по телефону, чем по тарифу Ultra."
   ]
  },
  {
   "cell_type": "markdown",
   "metadata": {},
   "source": [
    "- **Количество сообщений**: по тарифу Smart количество сообщений в месяц в среднем превышает тариф Ultra, а вот более 120 сообщений в месяц отправляют только пользователи Smart. Пользователи тарифа Smart чаще всего докупают количество сообщений, а потльзователи Ultra никогда не превышают лимит (1000)"
   ]
  },
  {
   "cell_type": "markdown",
   "metadata": {},
   "source": [
    "- **Объем трафика**: для тарифа Smart больше использовано трафика интернета в среднем за месяц, часто пользователям не хватает трафика (15 гб), они его докупают. По тарифу Ultra пользователи равнометро распределены использованному трафику."
   ]
  },
  {
   "cell_type": "markdown",
   "metadata": {},
   "source": [
    "# Этап 4. Проверка гипотез"
   ]
  },
  {
   "cell_type": "markdown",
   "metadata": {},
   "source": [
    "Проверим следующую гипотезу: \\\n",
    "*H0 - средняя выручка пользователей тарифов «Ультра» и «Смарт» различается.*"
   ]
  },
  {
   "cell_type": "code",
   "execution_count": 17,
   "metadata": {},
   "outputs": [
    {
     "name": "stdout",
     "output_type": "stream",
     "text": [
      "p-значение: 2.309363365371783e-115\n",
      "Отвергаем нулевую гипотезу\n"
     ]
    }
   ],
   "source": [
    "revenue_smart = data_revenue.query('tariff == \"smart\"')['revenue_month']\n",
    "revenue_ultra = data_revenue.query('tariff == \"ultra\"')['revenue_month']\n",
    "\n",
    "# Критический уровень статистической значимости. Если p-value будет меньше него, нужно отвергнуть гипотезу\n",
    "alpha = 0.05 \n",
    "\n",
    "# Проверка гипотезы о равенстве средних двух совокупностей\n",
    "results = st.ttest_ind(revenue_ultra, revenue_smart)    \n",
    "\n",
    "print('p-значение:', results.pvalue)\n",
    "\n",
    "if results.pvalue < alpha:\n",
    "    print(\"Отвергаем нулевую гипотезу\")\n",
    "else:\n",
    "    print(\"Не получилось отвергнуть нулевую гипотезу\")"
   ]
  },
  {
   "cell_type": "markdown",
   "metadata": {},
   "source": [
    "Отвергаем нулевую гипотезу. Средняя выручка по тарифу ultra выше (в основном засчет АП)"
   ]
  },
  {
   "cell_type": "markdown",
   "metadata": {},
   "source": [
    "Проверим следующую гипотезу: \\\n",
    "*H0 - средняя выручка пользователей из Москвы отличается от выручки пользователей из других регионов*"
   ]
  },
  {
   "cell_type": "code",
   "execution_count": 18,
   "metadata": {},
   "outputs": [
    {
     "name": "stdout",
     "output_type": "stream",
     "text": [
      "p-значение: 0.387435\n",
      "Не получилось отвергнуть нулевую гипотезу\n"
     ]
    }
   ],
   "source": [
    "data_revenue_city = data_revenue.merge(data_users[['user_id','city']], on='user_id', how='left')\n",
    "\n",
    "revenue_moscow = data_revenue_city.query('city == \"Москва\"')['revenue_month']\n",
    "revenue_other = data_revenue_city.query('city != \"Москва\"')['revenue_month']\n",
    "\n",
    "# Критический уровень статистической значимости. Если p-value будет меньше него, нужно отвергнуть гипотезу\n",
    "alpha = 0.05 \n",
    "\n",
    "# Проверка гипотезы о равенстве средних двух совокупностей\n",
    "results = st.ttest_ind(revenue_other, revenue_moscow)    \n",
    "\n",
    "print('p-значение:', round(results.pvalue,6))\n",
    "if results.pvalue < alpha:\n",
    "    print(\"Отвергаем нулевую гипотезу\")\n",
    "else:\n",
    "    print(\"Не получилось отвергнуть нулевую гипотезу\")"
   ]
  },
  {
   "cell_type": "markdown",
   "metadata": {},
   "source": [
    "Не получилось опровергнуть нулевую гипотезу. Полученное значение p-value говорит о том, что хотя средняя выручка по регионам и Москве не одинаков, с вероятностью в почти 39% такое различие можно получить случайно. Это очень большая вероятность, чтобы делать вывод о значимом различии между средней выручкой."
   ]
  },
  {
   "cell_type": "markdown",
   "metadata": {},
   "source": [
    "# Этап 5. Общий вывод"
   ]
  },
  {
   "cell_type": "markdown",
   "metadata": {},
   "source": [
    "По тарифу Смарт показатели количество минут разговора, кол-во звонков и сообщений в месяц, интернет-траффик, а также средняя выручка меньше, чем по тарифу Ультра.\n",
    "\n",
    "Если смотреть распределение по регионам пользователей, то средняя выручка по другим регионам выше, чем в Москве.\n",
    "\n",
    "С точки зрения выручки тариф Ultra более прибылен, нежели Smart. В основном засчет высокой абоненской платы. Пользователи этого тарифа очень редко выходят за лимит, тогда как пользователям тарифа Smart почти всегда требуется докупать лишние минуты, сообщения или траффик. \n",
    "\n",
    "Если говорить о распределении выручки по регионам, то можно сказать о том, что выручка распределена равномерно по всей территории действия тарифов. Тариф Ultra предполагает высокий уровень лимита, что почти не оправдано: пользователи редко выходят за абоненскую плату. Необходимо либо корректировать лимит по тарифу Ultra, либо повышать абоненскую плату. По тарифу Smart целесообразно увеличить лимит услуг и возможно повысить АП, с точки зрения клиентоориентированности такой подход позволит пользователям меньше сталкиваться с продлением траффика или докупкой минут и сообщений."
   ]
  }
 ],
 "metadata": {
  "kernelspec": {
   "display_name": "Python 3",
   "language": "python",
   "name": "python3"
  },
  "language_info": {
   "codemirror_mode": {
    "name": "ipython",
    "version": 3
   },
   "file_extension": ".py",
   "mimetype": "text/x-python",
   "name": "python",
   "nbconvert_exporter": "python",
   "pygments_lexer": "ipython3",
   "version": "3.7.4"
  }
 },
 "nbformat": 4,
 "nbformat_minor": 2
}
